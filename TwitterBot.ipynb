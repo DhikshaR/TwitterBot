{
 "cells": [
  {
   "cell_type": "markdown",
   "metadata": {},
   "source": [
    "# Twitter Bot\n",
    "\n",
    "This project aims at creating a twitter bot that replies to a particular tweet when a particular keyword searched for appears in that tweet. This ican provide useful in a situation where an upcoming company wants to endorse their product when a particular word or sentence is mentioned in user's tweet. Let's get started by first importing all the required packages."
   ]
  },
  {
   "cell_type": "code",
   "execution_count": 1,
   "metadata": {},
   "outputs": [],
   "source": [
    "#Tweepy library is used specifically for twitter API\n",
    "import tweepy\n",
    "from tweepy import OAuthHandler\n",
    "from tweepy import Stream"
   ]
  },
  {
   "cell_type": "markdown",
   "metadata": {},
   "source": [
    "For the next step, we need to get the keys in order to authenticate the login to a twitter account. Follow the following steps to get the keys:\n",
    "\n",
    "1. Create a twitter account\n",
    "2. Go to the link https://apps.twitter.com and click on create new app and follow the instructions\n",
    "3. When this is completed, you will be provided with 4 keys, namely, consumer key, consumer secret key, access token and access secret token.\n",
    "\n",
    "Then do the following to establish the connection."
   ]
  },
  {
   "cell_type": "code",
   "execution_count": 2,
   "metadata": {},
   "outputs": [],
   "source": [
    "consumer_key = ''\n",
    "consumer_secret = ''\n",
    "access_token = ''\n",
    "access_secret = ''\n",
    "\n",
    "auth = tweepy.OAuthHandler(consumer_key, consumer_secret)\n",
    "auth.set_access_token(access_token, access_secret)\n",
    "api = tweepy.API(auth)"
   ]
  },
  {
   "cell_type": "markdown",
   "metadata": {},
   "source": [
    "Now, we are to search in the api for the words or queries required. If you want to search just one word or sentence then set the parameter \"q\" to that else if you want to search for multiple terms the insert an \"or\" between all the terms to be searched for."
   ]
  },
  {
   "cell_type": "code",
   "execution_count": null,
   "metadata": {},
   "outputs": [],
   "source": [
    "twt = api.search(q=\"ASAP Rocky\" or \"TESTING Album\" or \"ASAP Testing\" or \"Daytona\" or \"Pusha T\")"
   ]
  },
  {
   "cell_type": "markdown",
   "metadata": {},
   "source": [
    "Now, all the tweets are stored in the variable twt. Now we have to iterate through all the messages in twt and find the username and write down the message you want to post as a reply to that tweet. The \"@\" helps you to reply in that tweet else it will be posted as a tweet on your wall instead. Then the update command is used to update the reply to that tweet."
   ]
  },
  {
   "cell_type": "code",
   "execution_count": null,
   "metadata": {},
   "outputs": [],
   "source": [
    "for s in twt:\n",
    "    sn = s.user.screen_name\n",
    "    m = \"@%s http://smarturl.it/zTESTING TSTNG.co - Official TESTING Album Site #TESTINGALBUM\" % (sn)\n",
    "    s = api.update_status(m, s.id)"
   ]
  },
  {
   "cell_type": "markdown",
   "metadata": {},
   "source": [
    "NOTE: This was done as a project for the company \"endorsify\" and thus uses those terms and message. Make the necessary changes according to what is to be performed."
   ]
  }
 ],
 "metadata": {
  "kernelspec": {
   "display_name": "Python 3",
   "language": "python",
   "name": "python3"
  },
  "language_info": {
   "codemirror_mode": {
    "name": "ipython",
    "version": 3
   },
   "file_extension": ".py",
   "mimetype": "text/x-python",
   "name": "python",
   "nbconvert_exporter": "python",
   "pygments_lexer": "ipython3",
   "version": "3.6.4"
  }
 },
 "nbformat": 4,
 "nbformat_minor": 2
}
